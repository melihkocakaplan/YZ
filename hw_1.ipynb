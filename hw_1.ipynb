{
 "cells": [
  {
   "cell_type": "code",
   "execution_count": 7,
   "metadata": {},
   "outputs": [],
   "source": [
    "def compareTriplets(Alice_user_input = input(), Bob_user_input = input()):\n",
    "\n",
    "    total_comparison_dict = {\"Alice\":0,\"Bob\":0} # the dict to be returned as a result of the comparison \n",
    "        \n",
    "    Alice_input = [int(inp) for inp in Alice_user_input.split(\" \")]\n",
    "    Bob_input = [int(inp) for inp in Bob_user_input.split(\" \")]\n",
    "    \n",
    "    for index in range(len(Alice_input)):\n",
    "        if Alice_input[index] > Bob_input[index]:\n",
    "            total_comparison_dict[\"Alice\"] += 1\n",
    "        elif Alice_input[index] < Bob_input[index]:\n",
    "            total_comparison_dict[\"Bob\"] += 1\n",
    "        else:\n",
    "            pass\n",
    "\n",
    "    comparison_list = [i for i in total_comparison_dict.values()]\n",
    "    return comparison_list"
   ]
  },
  {
   "cell_type": "code",
   "execution_count": 5,
   "metadata": {},
   "outputs": [
    {
     "data": {
      "text/plain": [
       "[1, 1]"
      ]
     },
     "execution_count": 5,
     "metadata": {},
     "output_type": "execute_result"
    }
   ],
   "source": [
    "# 5 6 7\n",
    "# 3 6 18\n",
    "compareTriplets()"
   ]
  },
  {
   "cell_type": "code",
   "execution_count": 8,
   "metadata": {},
   "outputs": [
    {
     "data": {
      "text/plain": [
       "[2, 1]"
      ]
     },
     "execution_count": 8,
     "metadata": {},
     "output_type": "execute_result"
    }
   ],
   "source": [
    "# 17 28 36\n",
    "# 99 16 8 \n",
    "compareTriplets()"
   ]
  }
 ],
 "metadata": {
  "interpreter": {
   "hash": "89508a3518e2d4807d60e99ed91537c6fc75be0e84c4a10b9874205a1303af47"
  },
  "kernelspec": {
   "display_name": "Python 3.10.0 64-bit",
   "language": "python",
   "name": "python3"
  },
  "language_info": {
   "codemirror_mode": {
    "name": "ipython",
    "version": 3
   },
   "file_extension": ".py",
   "mimetype": "text/x-python",
   "name": "python",
   "nbconvert_exporter": "python",
   "pygments_lexer": "ipython3",
   "version": "3.10.0"
  },
  "orig_nbformat": 4
 },
 "nbformat": 4,
 "nbformat_minor": 2
}
